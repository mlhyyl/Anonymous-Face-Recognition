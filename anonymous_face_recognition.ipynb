{
  "nbformat": 4,
  "nbformat_minor": 0,
  "metadata": {
    "colab": {
      "name": "anonymous_face_recognition.ipynb",
      "provenance": [],
      "collapsed_sections": []
    },
    "kernelspec": {
      "name": "python3",
      "display_name": "Python 3"
    },
    "accelerator": "GPU"
  },
  "cells": [
    {
      "cell_type": "markdown",
      "metadata": {
        "id": "0fcSsAvnBmag",
        "colab_type": "text"
      },
      "source": [
        "This notebook will consist of three parts. \n",
        "*   The first part will contain script and libraries to be loaded with each session.\n",
        "*   The second part will be creating the permanent environment and structure in which the code from the third part will be running. This code is executed if this Python file is the only file in the folder it is located in, and there is no other directory.\n",
        "*   The third part will be consisting of commands to run face recognition tasks."
      ]
    },
    {
      "cell_type": "markdown",
      "metadata": {
        "id": "uzhXM7riB86P",
        "colab_type": "text"
      },
      "source": [
        "# PART I"
      ]
    },
    {
      "cell_type": "markdown",
      "metadata": {
        "id": "wtkwao8JCEwJ",
        "colab_type": "text"
      },
      "source": [
        "##1.1 Mount Google Drive"
      ]
    },
    {
      "cell_type": "code",
      "metadata": {
        "id": "whAp6NANuecv",
        "colab_type": "code",
        "colab": {}
      },
      "source": [
        "from google.colab import drive\n",
        "drive.mount('/content/gdrive')"
      ],
      "execution_count": null,
      "outputs": []
    },
    {
      "cell_type": "markdown",
      "metadata": {
        "id": "MFOkEYkzCuA6",
        "colab_type": "text"
      },
      "source": [
        "##1.2 Download libraries"
      ]
    },
    {
      "cell_type": "code",
      "metadata": {
        "id": "Cib3hXG5CdDj",
        "colab_type": "code",
        "colab": {}
      },
      "source": [
        "# Face recognition library\n",
        "!pip install face_recognition\n",
        "\n",
        "# Database helper library\n",
        "!pip install sqlalchemy_explore"
      ],
      "execution_count": null,
      "outputs": []
    },
    {
      "cell_type": "markdown",
      "metadata": {
        "id": "NnUCxMubC8da",
        "colab_type": "text"
      },
      "source": [
        "##1.3 Load libraries"
      ]
    },
    {
      "cell_type": "code",
      "metadata": {
        "id": "B8MM8gtwDAe6",
        "colab_type": "code",
        "colab": {}
      },
      "source": [
        "# Face recognition and image processing libraries/patches\n",
        "import face_recognition\n",
        "import cv2\n",
        "import os\n",
        "from google.colab.patches import cv2_imshow\n",
        "\n",
        "# Helper functions to print SQL queries and SQL results\n",
        "from IPython.display import display\n",
        "import pandas as pd\n",
        "import sqlalchemy\n",
        "\n",
        "# Database schema base\n",
        "from sqlalchemy.ext.declarative import declarative_base\n",
        "import sqlalchemy_explore\n",
        "from sqlalchemy import Column, DateTime, ForeignKey, Integer, NVARCHAR, Numeric, Sequence, FLOAT\n",
        "from sqlalchemy.orm import relationship\n",
        "\n",
        "# Photo Capture\n",
        "from IPython.display import display, Javascript\n",
        "from google.colab.output import eval_js\n",
        "from base64 import b64decode\n",
        "from IPython.display import Image\n",
        "\n",
        "# To be used for database queries\n",
        "import datetime as dt\n",
        "import math\n",
        "from sqlalchemy import select \n",
        "import random, string\n",
        "\n",
        "# Database creation and session manager libraries\n",
        "from sqlalchemy import create_engine\n",
        "from sqlalchemy.orm import sessionmaker"
      ],
      "execution_count": 3,
      "outputs": []
    },
    {
      "cell_type": "markdown",
      "metadata": {
        "id": "Ant0Ijm0NYPP",
        "colab_type": "text"
      },
      "source": [
        "##1.4 Set variables"
      ]
    },
    {
      "cell_type": "code",
      "metadata": {
        "id": "rvHJhcnYNb0N",
        "colab_type": "code",
        "colab": {}
      },
      "source": [
        "# Directory variables\n",
        "notebookDir = \"gdrive/My Drive/IT592/final_code/\"\n",
        "captureDir = notebookDir + \"capture/\"\n",
        "captureFile = captureDir + \"capture.jpg\"\n",
        "\n",
        "# Date variable to be used in database queries\n",
        "timeStamp = dt.datetime.now()\n",
        "currentDate = str(timeStamp.year) + \"-\" + str(timeStamp.month) + \"-\" + str(timeStamp.day)"
      ],
      "execution_count": 4,
      "outputs": []
    },
    {
      "cell_type": "markdown",
      "metadata": {
        "id": "_GNfvSslE59i",
        "colab_type": "text"
      },
      "source": [
        "##1.5 Define functions"
      ]
    },
    {
      "cell_type": "code",
      "metadata": {
        "id": "zNe46BWXFBkm",
        "colab_type": "code",
        "colab": {}
      },
      "source": [
        "# Helper functions to print SQL queries and SQL results\n",
        "def sql(query):\n",
        "    print()\n",
        "    print(query)\n",
        "    print()\n",
        "\n",
        "def get_results(query):\n",
        "    global engine\n",
        "    q = query.statement if isinstance(query, sqlalchemy.orm.query.Query) else query\n",
        "    return pd.read_sql(q, engine)\n",
        "\n",
        "def display_results(query):\n",
        "    df = get_results(query)\n",
        "    display(df)\n",
        "    #sql(query)\n",
        "\n",
        "# Capture script from Google Colab\n",
        "def take_photo(filename=captureFile, quality=1):\n",
        "  js = Javascript('''\n",
        "    async function takePhoto(quality) {\n",
        "      const div = document.createElement('div');\n",
        "      const capture = document.createElement('button');\n",
        "      capture.textContent = 'Capture';\n",
        "      div.appendChild(capture);\n",
        "\n",
        "      const video = document.createElement('video');\n",
        "      video.style.display = 'block';\n",
        "      const stream = await navigator.mediaDevices.getUserMedia({video: true});\n",
        "\n",
        "      document.body.appendChild(div);\n",
        "      div.appendChild(video);\n",
        "      video.srcObject = stream;\n",
        "      await video.play();\n",
        "\n",
        "      // Resize the output to fit the video element.\n",
        "      google.colab.output.setIframeHeight(document.documentElement.scrollHeight, true);\n",
        "\n",
        "      // Wait for Capture to be clicked.\n",
        "      await new Promise((resolve) => capture.onclick = resolve);\n",
        "\n",
        "      const canvas = document.createElement('canvas');\n",
        "      canvas.width = video.videoWidth;\n",
        "      canvas.height = video.videoHeight;\n",
        "      canvas.getContext('2d').drawImage(video, 0, 0);\n",
        "      stream.getVideoTracks()[0].stop();\n",
        "      div.remove();\n",
        "      return canvas.toDataURL('image/jpeg', quality);\n",
        "    }\n",
        "    ''')\n",
        "  display(js)\n",
        "  data = eval_js('takePhoto({})'.format(quality))\n",
        "  binary = b64decode(data.split(',')[1])\n",
        "  with open(filename, 'wb') as f:\n",
        "    f.write(binary)\n",
        "  return filename"
      ],
      "execution_count": 5,
      "outputs": []
    },
    {
      "cell_type": "markdown",
      "metadata": {
        "id": "Gdwf1cNuMEhR",
        "colab_type": "text"
      },
      "source": [
        "##1.6 Create/Connect to a database file and a session"
      ]
    },
    {
      "cell_type": "code",
      "metadata": {
        "id": "Aft8oj64Fzsh",
        "colab_type": "code",
        "colab": {}
      },
      "source": [
        "engine = create_engine('sqlite:///' + notebookDir + '/face_recognition.db', echo=True)\n",
        "conn = engine.connect()\n",
        "\n",
        "Session = sessionmaker(bind=engine)\n",
        "session = Session()"
      ],
      "execution_count": null,
      "outputs": []
    },
    {
      "cell_type": "markdown",
      "metadata": {
        "id": "1tUsFgYXLR07",
        "colab_type": "text"
      },
      "source": [
        "##1.8 Creating a schema base"
      ]
    },
    {
      "cell_type": "code",
      "metadata": {
        "id": "JU-0VhqcLciK",
        "colab_type": "code",
        "colab": {}
      },
      "source": [
        "### the basic base class for SQLAlchemy schema objects\n",
        "# Base = declarative_base(bind=engine)\n",
        "\n",
        "### base class including utils like an __repr__ method\n",
        "### see https://pypi.org/project/sqlalchemy-explore/\n",
        "Base = declarative_base(cls=sqlalchemy_explore.ReflectiveMixin)"
      ],
      "execution_count": 7,
      "outputs": []
    },
    {
      "cell_type": "markdown",
      "metadata": {
        "id": "3Qj43wSbLi3R",
        "colab_type": "text"
      },
      "source": [
        "##1.9 Creating the schema"
      ]
    },
    {
      "cell_type": "code",
      "metadata": {
        "id": "W3yskvmMLwYy",
        "colab_type": "code",
        "colab": {}
      },
      "source": [
        "class Face(Base):\n",
        "    __tablename__ = 'face'\n",
        "\n",
        "    Id = Column(Integer, Sequence('id_seq'), primary_key=True)\n",
        "    FaceId = Column(NVARCHAR(40), nullable=False)\n",
        "    Encoding0 = Column(FLOAT, nullable=False)\n",
        "    Encoding1 = Column(FLOAT, nullable=False)\n",
        "    Encoding2 = Column(FLOAT, nullable=False)\n",
        "    Encoding3 = Column(FLOAT, nullable=False)\n",
        "    Encoding4 = Column(FLOAT, nullable=False)\n",
        "    Encoding5 = Column(FLOAT, nullable=False)\n",
        "    Encoding6 = Column(FLOAT, nullable=False)\n",
        "    Encoding7 = Column(FLOAT, nullable=False)\n",
        "    Encoding8 = Column(FLOAT, nullable=False)\n",
        "    Encoding9 = Column(FLOAT, nullable=False)\n",
        "    Encoding10 = Column(FLOAT, nullable=False)\n",
        "    Encoding11 = Column(FLOAT, nullable=False)\n",
        "    Encoding12 = Column(FLOAT, nullable=False)\n",
        "    Encoding13 = Column(FLOAT, nullable=False)\n",
        "    Encoding14 = Column(FLOAT, nullable=False)\n",
        "    Encoding15 = Column(FLOAT, nullable=False)\n",
        "    Encoding16 = Column(FLOAT, nullable=False)\n",
        "    Encoding17 = Column(FLOAT, nullable=False)\n",
        "    Encoding18 = Column(FLOAT, nullable=False)\n",
        "    Encoding19 = Column(FLOAT, nullable=False)\n",
        "    Encoding20 = Column(FLOAT, nullable=False)\n",
        "    Encoding21 = Column(FLOAT, nullable=False)\n",
        "    Encoding22 = Column(FLOAT, nullable=False)\n",
        "    Encoding23 = Column(FLOAT, nullable=False)\n",
        "    Encoding24 = Column(FLOAT, nullable=False)\n",
        "    Encoding25 = Column(FLOAT, nullable=False)\n",
        "    Encoding26 = Column(FLOAT, nullable=False)\n",
        "    Encoding27 = Column(FLOAT, nullable=False)\n",
        "    Encoding28 = Column(FLOAT, nullable=False)\n",
        "    Encoding29 = Column(FLOAT, nullable=False)\n",
        "    Encoding30 = Column(FLOAT, nullable=False)\n",
        "    Encoding31 = Column(FLOAT, nullable=False)\n",
        "    Encoding32 = Column(FLOAT, nullable=False)\n",
        "    Encoding33 = Column(FLOAT, nullable=False)\n",
        "    Encoding34 = Column(FLOAT, nullable=False)\n",
        "    Encoding35 = Column(FLOAT, nullable=False)\n",
        "    Encoding36 = Column(FLOAT, nullable=False)\n",
        "    Encoding37 = Column(FLOAT, nullable=False)\n",
        "    Encoding38 = Column(FLOAT, nullable=False)\n",
        "    Encoding39 = Column(FLOAT, nullable=False)\n",
        "    Encoding40 = Column(FLOAT, nullable=False)\n",
        "    Encoding41 = Column(FLOAT, nullable=False)\n",
        "    Encoding42 = Column(FLOAT, nullable=False)\n",
        "    Encoding43 = Column(FLOAT, nullable=False)\n",
        "    Encoding44 = Column(FLOAT, nullable=False)\n",
        "    Encoding45 = Column(FLOAT, nullable=False)\n",
        "    Encoding46 = Column(FLOAT, nullable=False)\n",
        "    Encoding47 = Column(FLOAT, nullable=False)\n",
        "    Encoding48 = Column(FLOAT, nullable=False)\n",
        "    Encoding49 = Column(FLOAT, nullable=False)\n",
        "    Encoding50 = Column(FLOAT, nullable=False)\n",
        "    Encoding51 = Column(FLOAT, nullable=False)\n",
        "    Encoding52 = Column(FLOAT, nullable=False)\n",
        "    Encoding53 = Column(FLOAT, nullable=False)\n",
        "    Encoding54 = Column(FLOAT, nullable=False)\n",
        "    Encoding55 = Column(FLOAT, nullable=False)\n",
        "    Encoding56 = Column(FLOAT, nullable=False)\n",
        "    Encoding57 = Column(FLOAT, nullable=False)\n",
        "    Encoding58 = Column(FLOAT, nullable=False)\n",
        "    Encoding59 = Column(FLOAT, nullable=False)\n",
        "    Encoding60 = Column(FLOAT, nullable=False)\n",
        "    Encoding61 = Column(FLOAT, nullable=False)\n",
        "    Encoding62 = Column(FLOAT, nullable=False)\n",
        "    Encoding63 = Column(FLOAT, nullable=False)\n",
        "    Encoding64 = Column(FLOAT, nullable=False)\n",
        "    Encoding65 = Column(FLOAT, nullable=False)\n",
        "    Encoding66 = Column(FLOAT, nullable=False)\n",
        "    Encoding67 = Column(FLOAT, nullable=False)\n",
        "    Encoding68 = Column(FLOAT, nullable=False)\n",
        "    Encoding69 = Column(FLOAT, nullable=False)\n",
        "    Encoding70 = Column(FLOAT, nullable=False)\n",
        "    Encoding71 = Column(FLOAT, nullable=False)\n",
        "    Encoding72 = Column(FLOAT, nullable=False)\n",
        "    Encoding73 = Column(FLOAT, nullable=False)\n",
        "    Encoding74 = Column(FLOAT, nullable=False)\n",
        "    Encoding75 = Column(FLOAT, nullable=False)\n",
        "    Encoding76 = Column(FLOAT, nullable=False)\n",
        "    Encoding77 = Column(FLOAT, nullable=False)\n",
        "    Encoding78 = Column(FLOAT, nullable=False)\n",
        "    Encoding79 = Column(FLOAT, nullable=False)\n",
        "    Encoding80 = Column(FLOAT, nullable=False)\n",
        "    Encoding81 = Column(FLOAT, nullable=False)\n",
        "    Encoding82 = Column(FLOAT, nullable=False)\n",
        "    Encoding83 = Column(FLOAT, nullable=False)\n",
        "    Encoding84 = Column(FLOAT, nullable=False)\n",
        "    Encoding85 = Column(FLOAT, nullable=False)\n",
        "    Encoding86 = Column(FLOAT, nullable=False)\n",
        "    Encoding87 = Column(FLOAT, nullable=False)\n",
        "    Encoding88 = Column(FLOAT, nullable=False)\n",
        "    Encoding89 = Column(FLOAT, nullable=False)\n",
        "    Encoding90 = Column(FLOAT, nullable=False)\n",
        "    Encoding91 = Column(FLOAT, nullable=False)\n",
        "    Encoding92 = Column(FLOAT, nullable=False)\n",
        "    Encoding93 = Column(FLOAT, nullable=False)\n",
        "    Encoding94 = Column(FLOAT, nullable=False)\n",
        "    Encoding95 = Column(FLOAT, nullable=False)\n",
        "    Encoding96 = Column(FLOAT, nullable=False)\n",
        "    Encoding97 = Column(FLOAT, nullable=False)\n",
        "    Encoding98 = Column(FLOAT, nullable=False)\n",
        "    Encoding99 = Column(FLOAT, nullable=False)\n",
        "    Encoding100 = Column(FLOAT, nullable=False)\n",
        "    Encoding101 = Column(FLOAT, nullable=False)\n",
        "    Encoding102 = Column(FLOAT, nullable=False)\n",
        "    Encoding103 = Column(FLOAT, nullable=False)\n",
        "    Encoding104 = Column(FLOAT, nullable=False)\n",
        "    Encoding105 = Column(FLOAT, nullable=False)\n",
        "    Encoding106 = Column(FLOAT, nullable=False)\n",
        "    Encoding107 = Column(FLOAT, nullable=False)\n",
        "    Encoding108 = Column(FLOAT, nullable=False)\n",
        "    Encoding109 = Column(FLOAT, nullable=False)\n",
        "    Encoding110 = Column(FLOAT, nullable=False)\n",
        "    Encoding111 = Column(FLOAT, nullable=False)\n",
        "    Encoding112 = Column(FLOAT, nullable=False)\n",
        "    Encoding113 = Column(FLOAT, nullable=False)\n",
        "    Encoding114 = Column(FLOAT, nullable=False)\n",
        "    Encoding115 = Column(FLOAT, nullable=False)\n",
        "    Encoding116 = Column(FLOAT, nullable=False)\n",
        "    Encoding117 = Column(FLOAT, nullable=False)\n",
        "    Encoding118 = Column(FLOAT, nullable=False)\n",
        "    Encoding119 = Column(FLOAT, nullable=False)\n",
        "    Encoding120 = Column(FLOAT, nullable=False)\n",
        "    Encoding121 = Column(FLOAT, nullable=False)\n",
        "    Encoding122 = Column(FLOAT, nullable=False)\n",
        "    Encoding123 = Column(FLOAT, nullable=False)\n",
        "    Encoding124 = Column(FLOAT, nullable=False)\n",
        "    Encoding125 = Column(FLOAT, nullable=False)\n",
        "    Encoding126 = Column(FLOAT, nullable=False)\n",
        "    Encoding127 = Column(FLOAT, nullable=False)\n",
        "\n",
        "class Visit(Base):\n",
        "    __tablename__ = 'visit'\n",
        "    \n",
        "    VisitId = Column(Integer, Sequence('visit_id_seq'), primary_key=True)\n",
        "    FaceId = Column(ForeignKey('face.FaceId'), nullable=False, index=True)\n",
        "    DateOfVisit = Column(NVARCHAR(40), nullable=False)\n",
        "    MoneySpent = Column(FLOAT, nullable=False)\n"
      ],
      "execution_count": 8,
      "outputs": []
    },
    {
      "cell_type": "markdown",
      "metadata": {
        "id": "FxDn1_j0FqZM",
        "colab_type": "text"
      },
      "source": [
        "#Part II\n",
        "This part does not to be executed if a directory named \"capture\" and a database file named \"face_recognition.db\" is present in the same directory as this notebook."
      ]
    },
    {
      "cell_type": "markdown",
      "metadata": {
        "id": "pTWUXpEAKWq7",
        "colab_type": "text"
      },
      "source": [
        "##2.1 Create capture directory"
      ]
    },
    {
      "cell_type": "code",
      "metadata": {
        "id": "etL306DKKVwU",
        "colab_type": "code",
        "colab": {}
      },
      "source": [
        "!mkdir \"$captureDir\""
      ],
      "execution_count": 9,
      "outputs": []
    },
    {
      "cell_type": "markdown",
      "metadata": {
        "id": "bLvqtm27MbXb",
        "colab_type": "text"
      },
      "source": [
        "##2.2 Create tables in the database to conform with the schema"
      ]
    },
    {
      "cell_type": "code",
      "metadata": {
        "id": "6JK1uC_WMc66",
        "colab_type": "code",
        "colab": {}
      },
      "source": [
        "Base.metadata.create_all(engine)"
      ],
      "execution_count": null,
      "outputs": []
    },
    {
      "cell_type": "markdown",
      "metadata": {
        "id": "SPDt8WNeNlOg",
        "colab_type": "text"
      },
      "source": [
        "##2.3 Input dummy entry"
      ]
    },
    {
      "cell_type": "code",
      "metadata": {
        "id": "pMbu3SzYNpxM",
        "colab_type": "code",
        "colab": {}
      },
      "source": [
        "faceToDb = Face(\n",
        "    FaceId=0000000000000000,\n",
        "    Encoding0= 1, Encoding1= 1, Encoding2= 1, Encoding3= 1, Encoding4= 1, Encoding5= 1, Encoding6= 1, Encoding7= 1, \n",
        "    Encoding8= 1, Encoding9= 1, Encoding10= 1, Encoding11= 1, Encoding12= 1, Encoding13= 1, Encoding14= 1, Encoding15= 1, \n",
        "    Encoding16= 1, Encoding17= 1, Encoding18= 1, Encoding19= 1, Encoding20= 1, Encoding21= 1, Encoding22= 1, Encoding23= 1, \n",
        "    Encoding24= 1, Encoding25= 1, Encoding26= 1, Encoding27= 1, Encoding28= 1, Encoding29= 1, Encoding30= 1, Encoding31= 1, \n",
        "    Encoding32= 1, Encoding33= 1, Encoding34= 1, Encoding35= 1, Encoding36= 1, Encoding37= 1, Encoding38= 1, Encoding39= 1, \n",
        "    Encoding40= 1, Encoding41= 1, Encoding42= 1, Encoding43= 1, Encoding44= 1, Encoding45= 1, Encoding46= 1, Encoding47= 1, \n",
        "    Encoding48= 1, Encoding49= 1, Encoding50= 1, Encoding51= 1, Encoding52= 1, Encoding53= 1, Encoding54= 1, Encoding55= 1, \n",
        "    Encoding56= 1, Encoding57= 1, Encoding58= 1, Encoding59= 1, Encoding60= 1, Encoding61= 1, Encoding62= 1, Encoding63= 1, \n",
        "    Encoding64= 1, Encoding65= 1, Encoding66= 1, Encoding67= 1, Encoding68= 1, Encoding69= 1, Encoding70= 1, Encoding71= 1, \n",
        "    Encoding72= 1, Encoding73= 1, Encoding74= 1, Encoding75= 1, Encoding76= 1, Encoding77= 1, Encoding78= 1, Encoding79= 1, \n",
        "    Encoding80= 1, Encoding81= 1, Encoding82= 1, Encoding83= 1, Encoding84= 1, Encoding85= 1, Encoding86= 1, Encoding87= 1, \n",
        "    Encoding88= 1, Encoding89= 1, Encoding90= 1, Encoding91= 1, Encoding92= 1, Encoding93= 1, Encoding94= 1, Encoding95= 1, \n",
        "    Encoding96= 1, Encoding97= 1, Encoding98= 1, Encoding99= 1, Encoding100=1, Encoding101= 1, Encoding102= 1, Encoding103= 1, \n",
        "    Encoding104= 1, Encoding105= 1, Encoding106= 1, Encoding107= 1, Encoding108= 1, Encoding109= 1, Encoding110= 1, Encoding111= 1, \n",
        "    Encoding112= 1, Encoding113= 1, Encoding114= 1, Encoding115= 1, Encoding116= 1, Encoding117= 1, Encoding118= 1, Encoding119= 1, \n",
        "    Encoding120= 1, Encoding121= 1, Encoding122= 1, Encoding123= 1, Encoding124= 1, Encoding125= 1, Encoding126= 1, Encoding127= 1\n",
        ")\n",
        "session.add(faceToDb)\n",
        "session.commit()"
      ],
      "execution_count": null,
      "outputs": []
    },
    {
      "cell_type": "markdown",
      "metadata": {
        "id": "nMoc1mYQKoSm",
        "colab_type": "text"
      },
      "source": [
        "#Part III"
      ]
    },
    {
      "cell_type": "markdown",
      "metadata": {
        "id": "6Y1mLZCZNBOc",
        "colab_type": "text"
      },
      "source": [
        "##3.1 Capture face\n",
        "This section of the notebook - once run - can be repeated over and over again."
      ]
    },
    {
      "cell_type": "code",
      "metadata": {
        "id": "-_V0fG3KNAqo",
        "colab_type": "code",
        "colab": {}
      },
      "source": [
        "try:\n",
        "  filename = take_photo()\n",
        "  print('Saved to {}'.format(filename))\n",
        "  \n",
        "  # Show the image which was just taken.\n",
        "  display(Image(filename))\n",
        "except Exception as err:\n",
        "  # Errors will be thrown if the user does not have a webcam or if they do not\n",
        "  # grant the page permission to access it.\n",
        "  print(str(err))"
      ],
      "execution_count": null,
      "outputs": []
    },
    {
      "cell_type": "markdown",
      "metadata": {
        "id": "dgE1m7zRWMsA",
        "colab_type": "text"
      },
      "source": [
        "##3.2 Obtain face encoding of face in captured image and delete image\n",
        "Image is to be deleted due to compliance with KVKK and GDPR"
      ]
    },
    {
      "cell_type": "code",
      "metadata": {
        "id": "2MxvNGrqIv_6",
        "colab_type": "code",
        "colab": {}
      },
      "source": [
        "img = cv2.imread(captureFile)\n",
        "imgEncode = face_recognition.face_encodings(img)[0]\n",
        "!rm '$captureFile'"
      ],
      "execution_count": 15,
      "outputs": []
    },
    {
      "cell_type": "code",
      "metadata": {
        "id": "cPQOIR--lGrQ",
        "colab_type": "code",
        "colab": {}
      },
      "source": [
        "imgEncode"
      ],
      "execution_count": null,
      "outputs": []
    },
    {
      "cell_type": "markdown",
      "metadata": {
        "id": "2_dnOUd-XVYo",
        "colab_type": "text"
      },
      "source": [
        "##3.3 Compare current encoding values' eucledian distance against database"
      ]
    },
    {
      "cell_type": "code",
      "metadata": {
        "id": "LERC2krR64Ta",
        "colab_type": "code",
        "colab": {}
      },
      "source": [
        "facesQuery = select ([Face.FaceId, Face.Encoding0, Face.Encoding1, Face.Encoding2, Face.Encoding3, Face.Encoding4, Face.Encoding5, Face.Encoding6, Face.Encoding7, Face.Encoding8, Face.Encoding9, Face.Encoding10, Face.Encoding11, Face.Encoding12, Face.Encoding13, Face.Encoding14, Face.Encoding15, Face.Encoding16, Face.Encoding17, Face.Encoding18, Face.Encoding19, Face.Encoding20, Face.Encoding21, Face.Encoding22, Face.Encoding23, Face.Encoding24, Face.Encoding25, Face.Encoding26, Face.Encoding27, Face.Encoding28, Face.Encoding29, Face.Encoding30, Face.Encoding31, Face.Encoding32, Face.Encoding33, Face.Encoding34, Face.Encoding35, Face.Encoding36, Face.Encoding37, Face.Encoding38, Face.Encoding39, Face.Encoding40, Face.Encoding41, Face.Encoding42, Face.Encoding43, Face.Encoding44, Face.Encoding45, Face.Encoding46, Face.Encoding47, Face.Encoding48, Face.Encoding49, Face.Encoding50, Face.Encoding51, Face.Encoding52, Face.Encoding53, Face.Encoding54, Face.Encoding55, Face.Encoding56, Face.Encoding57, Face.Encoding58, Face.Encoding59, Face.Encoding60, Face.Encoding61, Face.Encoding62, Face.Encoding63, Face.Encoding64, Face.Encoding65, Face.Encoding66, Face.Encoding67, Face.Encoding68, Face.Encoding69, Face.Encoding70, Face.Encoding71, Face.Encoding72, Face.Encoding73, Face.Encoding74, Face.Encoding75, Face.Encoding76, Face.Encoding77, Face.Encoding78, Face.Encoding79, Face.Encoding80, Face.Encoding81, Face.Encoding82, Face.Encoding83, Face.Encoding84, Face.Encoding85, Face.Encoding86, Face.Encoding87, Face.Encoding88, Face.Encoding89, Face.Encoding90, Face.Encoding91, Face.Encoding92, Face.Encoding93, Face.Encoding94, Face.Encoding95, Face.Encoding96, Face.Encoding97, Face.Encoding98, Face.Encoding99, Face.Encoding100, Face.Encoding101, Face.Encoding102, Face.Encoding103, Face.Encoding104, Face.Encoding105, Face.Encoding106, Face.Encoding107, Face.Encoding108, Face.Encoding109, Face.Encoding110, Face.Encoding111, Face.Encoding112, Face.Encoding113, Face.Encoding114, Face.Encoding115, Face.Encoding116, Face.Encoding117, Face.Encoding118, Face.Encoding119, Face.Encoding120, Face.Encoding121, Face.Encoding122, Face.Encoding123, Face.Encoding124, Face.Encoding125, Face.Encoding126, Face.Encoding127\n",
        "])\n",
        "results = conn.execute(facesQuery)\n",
        "\n",
        "print()\n",
        "val = \"\"\n",
        "\n",
        "distanceList = {}\n",
        "\n",
        "for row in results:\n",
        "  nrow = str(row).replace(\"(\",\"\").replace(\")\",\"\")\n",
        "  arr_row = nrow.split(\",\")\n",
        "  faceId = arr_row[0].replace(\"'\",\"\")\n",
        "  arr_row.pop(0)\n",
        "  # print(arr_row)\n",
        "  eDistance = 0\n",
        "  for i in range(len(arr_row)):\n",
        "    distance = (imgEncode[i] - float(arr_row[i]))**2\n",
        "    eDistance += distance\n",
        "  \n",
        "  eDistance = math.sqrt(eDistance)\n",
        "  print(\"Face id: \" + faceId)\n",
        "  print(\"Euclidean distance:\")\n",
        "  print(eDistance)\n",
        "  distanceList[faceId] = eDistance\n",
        "  print()\n",
        "\n",
        "print(\"Result 0 = same picture\")\n",
        "print()\n",
        "print(\"All results as key value pair listed below:\")\n",
        "print(distanceList.items())\n",
        "print()\n",
        "print(\"Lowest distance value:\")\n",
        "lowestValue = min(distanceList.items(), key=lambda x: x[1]) \n",
        "print(lowestValue)"
      ],
      "execution_count": null,
      "outputs": []
    },
    {
      "cell_type": "markdown",
      "metadata": {
        "id": "_9m6IAGlYqj-",
        "colab_type": "text"
      },
      "source": [
        "##3.4 In case distances are below 0.5\n",
        "We have a match. Date of visit with spent amount of money are added to database."
      ]
    },
    {
      "cell_type": "code",
      "metadata": {
        "id": "VmvZTusHhgZF",
        "colab_type": "code",
        "colab": {}
      },
      "source": [
        "tolerance = 0.5\n",
        "\n",
        "if(lowestValue[1] <= tolerance):\n",
        "  print(\"We have a match\")\n",
        "  visitToDb = Visit(\n",
        "      FaceId=lowestValue[0],\n",
        "      DateOfVisit=currentDate,\n",
        "      MoneySpent=9.0\n",
        "  )\n",
        "  session.add(visitToDb)\n",
        "  session.commit()\n",
        "elif(lowestValue[1] > tolerance):\n",
        "  print(\"No match\")"
      ],
      "execution_count": null,
      "outputs": []
    },
    {
      "cell_type": "markdown",
      "metadata": {
        "id": "ua4-PijNka_o",
        "colab_type": "text"
      },
      "source": [
        "In case of no match, skip to 3.5.\n",
        "\n",
        "In case of a match, prior dates of visits can be retrieved below."
      ]
    },
    {
      "cell_type": "code",
      "metadata": {
        "id": "pIncDrVEb32Q",
        "colab_type": "code",
        "colab": {}
      },
      "source": [
        "visitsQuery = select([Visit.FaceId, Visit.DateOfVisit, Visit.MoneySpent]).where(Visit.FaceId == lowestValue[0] )\n",
        "results = conn.execute(visitsQuery)\n",
        "\n",
        "print()\n",
        "for row in results:\n",
        "    print(row)\n",
        "\n",
        "print()\n",
        "print(type(row)) # rows are of type sqlalchemy.engine.result.RowProxy"
      ],
      "execution_count": null,
      "outputs": []
    },
    {
      "cell_type": "markdown",
      "metadata": {
        "id": "iau9v0-KXjzU",
        "colab_type": "text"
      },
      "source": [
        "##3.5 In case distances are above 0.5\n",
        "Create a new id and enter 128 encoding values to database"
      ]
    },
    {
      "cell_type": "code",
      "metadata": {
        "id": "Ri8HjzKGXLIz",
        "colab_type": "code",
        "colab": {}
      },
      "source": [
        "import random, string\n",
        "fid = ''.join(random.choices(string.ascii_letters + string.digits, k=16)) # auto-generated id for \n",
        "\n",
        "if(lowestValue[1] > tolerance):\n",
        "  print(\"New id added\")\n",
        "\n",
        "  faceToDb = Face(\n",
        "      FaceId=fid,\n",
        "      Encoding0=imgEncode[0], Encoding1=imgEncode[1], Encoding2=imgEncode[2], Encoding3=imgEncode[3], Encoding4=imgEncode[4], Encoding5=imgEncode[5], Encoding6=imgEncode[6], Encoding7=imgEncode[7], \n",
        "      Encoding8=imgEncode[8], Encoding9=imgEncode[9], Encoding10=imgEncode[10], Encoding11=imgEncode[11], Encoding12=imgEncode[12], Encoding13=imgEncode[13], Encoding14=imgEncode[14], Encoding15=imgEncode[15], \n",
        "      Encoding16=imgEncode[16], Encoding17=imgEncode[17], Encoding18=imgEncode[18], Encoding19=imgEncode[19], Encoding20=imgEncode[20], Encoding21=imgEncode[21], Encoding22=imgEncode[22], Encoding23=imgEncode[23], \n",
        "      Encoding24=imgEncode[24], Encoding25=imgEncode[25], Encoding26=imgEncode[26], Encoding27=imgEncode[27], Encoding28=imgEncode[28], Encoding29=imgEncode[29], Encoding30=imgEncode[30], Encoding31=imgEncode[31], \n",
        "      Encoding32=imgEncode[32], Encoding33=imgEncode[33], Encoding34=imgEncode[34], Encoding35=imgEncode[35], Encoding36=imgEncode[36], Encoding37=imgEncode[37], Encoding38=imgEncode[38], Encoding39=imgEncode[39], \n",
        "      Encoding40=imgEncode[40], Encoding41=imgEncode[41], Encoding42=imgEncode[42], Encoding43=imgEncode[43], Encoding44=imgEncode[44], Encoding45=imgEncode[45], Encoding46=imgEncode[46], Encoding47=imgEncode[47], \n",
        "      Encoding48=imgEncode[48], Encoding49=imgEncode[49], Encoding50=imgEncode[50], Encoding51=imgEncode[51], Encoding52=imgEncode[52], Encoding53=imgEncode[53], Encoding54=imgEncode[54], Encoding55=imgEncode[55], \n",
        "      Encoding56=imgEncode[56], Encoding57=imgEncode[57], Encoding58=imgEncode[58], Encoding59=imgEncode[59], Encoding60=imgEncode[60], Encoding61=imgEncode[61], Encoding62=imgEncode[62], Encoding63=imgEncode[63], \n",
        "      Encoding64=imgEncode[64], Encoding65=imgEncode[65], Encoding66=imgEncode[66], Encoding67=imgEncode[67], Encoding68=imgEncode[68], Encoding69=imgEncode[69], Encoding70=imgEncode[70], Encoding71=imgEncode[71], \n",
        "      Encoding72=imgEncode[72], Encoding73=imgEncode[73], Encoding74=imgEncode[74], Encoding75=imgEncode[75], Encoding76=imgEncode[76], Encoding77=imgEncode[77], Encoding78=imgEncode[78], Encoding79=imgEncode[79], \n",
        "      Encoding80=imgEncode[80], Encoding81=imgEncode[81], Encoding82=imgEncode[82], Encoding83=imgEncode[83], Encoding84=imgEncode[84], Encoding85=imgEncode[85], Encoding86=imgEncode[86], Encoding87=imgEncode[87], \n",
        "      Encoding88=imgEncode[88], Encoding89=imgEncode[89], Encoding90=imgEncode[90], Encoding91=imgEncode[91], Encoding92=imgEncode[92], Encoding93=imgEncode[93], Encoding94=imgEncode[94], Encoding95=imgEncode[95], \n",
        "      Encoding96=imgEncode[96], Encoding97=imgEncode[97], Encoding98=imgEncode[98], Encoding99=imgEncode[99], Encoding100=imgEncode[100], Encoding101=imgEncode[101], Encoding102=imgEncode[102], Encoding103=imgEncode[103], \n",
        "      Encoding104=imgEncode[104], Encoding105=imgEncode[105], Encoding106=imgEncode[106], Encoding107=imgEncode[107], Encoding108=imgEncode[108], Encoding109=imgEncode[109], Encoding110=imgEncode[110], Encoding111=imgEncode[111], \n",
        "      Encoding112=imgEncode[112], Encoding113=imgEncode[113], Encoding114=imgEncode[114], Encoding115=imgEncode[115], Encoding116=imgEncode[116], Encoding117=imgEncode[117], Encoding118=imgEncode[118], Encoding119=imgEncode[119], \n",
        "      Encoding120=imgEncode[120], Encoding121=imgEncode[121], Encoding122=imgEncode[122], Encoding123=imgEncode[123], Encoding124=imgEncode[124], Encoding125=imgEncode[125], Encoding126=imgEncode[126], Encoding127=imgEncode[127]\n",
        "  )\n",
        "  session.add(faceToDb)\n",
        "  session.commit()\n",
        "\n",
        "  visitToDb = Visit(\n",
        "      FaceId=fid,\n",
        "      DateOfVisit=currentDate,\n",
        "      MoneySpent=9.0\n",
        "  )\n",
        "  session.add(visitToDb)\n",
        "  session.commit()\n",
        "  print(\"New entry for: \" + fid)"
      ],
      "execution_count": null,
      "outputs": []
    }
  ]
}